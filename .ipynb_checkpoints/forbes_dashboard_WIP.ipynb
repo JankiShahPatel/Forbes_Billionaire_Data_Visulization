{
 "cells": [
  {
   "cell_type": "code",
   "execution_count": 66,
   "metadata": {},
   "outputs": [],
   "source": [
    "import numpy as np\n",
    "import pandas as pd \n",
    "import seaborn as sns\n",
    "import matplotlib.pyplot as plt\n",
    "import plotly.express as px\n",
    "import panel as pn\n",
    "from pyforbes import ForbesList\n",
    "import hvplot.pandas\n",
    "pn.extension('tabulator')"
   ]
  },
  {
   "cell_type": "code",
   "execution_count": 67,
   "metadata": {},
   "outputs": [],
   "source": [
    "flist = ForbesList()\n",
    "years = []\n",
    "df = pd.DataFrame()\n",
    "for i in range(1997, 2023):\n",
    "    years.append(i)\n",
    "df[\"year\"] = years"
   ]
  },
  {
   "cell_type": "markdown",
   "metadata": {},
   "source": [
    "#Fill any empty values in the dataframe as 0"
   ]
  },
  {
   "cell_type": "code",
   "execution_count": 68,
   "metadata": {},
   "outputs": [],
   "source": [
    "#richest400_df = richest400_df.fillna(0)"
   ]
  },
  {
   "cell_type": "markdown",
   "metadata": {},
   "source": [
    "Create an array to keep track of the total number of billionaires each year"
   ]
  },
  {
   "cell_type": "code",
   "execution_count": 69,
   "metadata": {},
   "outputs": [],
   "source": [
    "number_billionaires = []\n",
    "for i in range(1997,2023):\n",
    "    number_df = flist.get_df(\"billionaires\", year =i)\n",
    "    number_billionaires.append(number_df.shape[0])\n",
    "df[\"Total Billionaires\"] = number_billionaires"
   ]
  },
  {
   "cell_type": "markdown",
   "metadata": {},
   "source": [
    "Enable the DataFrame to be interactive"
   ]
  },
  {
   "cell_type": "code",
   "execution_count": 70,
   "metadata": {},
   "outputs": [],
   "source": [
    "idf = df.interactive()"
   ]
  },
  {
   "cell_type": "markdown",
   "metadata": {},
   "source": [
    "Create the year slider widget"
   ]
  },
  {
   "cell_type": "code",
   "execution_count": 71,
   "metadata": {},
   "outputs": [],
   "source": [
    "year_slider = pn.widgets.IntSlider(name='Year slider', start=1997, end=2022, step=1, value=2000)"
   ]
  },
  {
   "cell_type": "markdown",
   "metadata": {},
   "source": [
    "Setting up pipeline for total billionaires (Not fixed yet)"
   ]
  },
  {
   "cell_type": "code",
   "execution_count": 72,
   "metadata": {},
   "outputs": [],
   "source": [
    "total_pipeline = (\n",
    "    idf[\n",
    "        idf.year <= year_slider\n",
    "    ]\n",
    "    .reset_index()\n",
    "    .sort_values(by='year')  \n",
    "    .reset_index(drop=True)\n",
    ")"
   ]
  },
  {
   "cell_type": "markdown",
   "metadata": {},
   "source": [
    "Creating plot for total billionaires using hvplot (Not working)"
   ]
  },
  {
   "cell_type": "code",
   "execution_count": 73,
   "metadata": {},
   "outputs": [],
   "source": [
    "total_billionaire_plot = total_pipeline.hvplot(x = 'year', y = 'Total Billionaires', title=\"Number of billionaires per year\")"
   ]
  },
  {
   "cell_type": "markdown",
   "metadata": {},
   "source": [
    "New Visualization to add to the Dashboard starts here"
   ]
  },
  {
   "cell_type": "code",
   "execution_count": 74,
   "metadata": {},
   "outputs": [],
   "source": [
    "bar_df = pd.DataFrame()\n",
    "year_data = []\n",
    "worth_data = []\n",
    "name_data = []\n"
   ]
  },
  {
   "cell_type": "code",
   "execution_count": 75,
   "metadata": {},
   "outputs": [],
   "source": [
    "for i in range(1997,2023):\n",
    "    finalworth_df = flist.get_df(\"billionaires\", year =i)\n",
    "    finalworth_df = finalworth_df[['year', 'finalWorth', 'name']]\n",
    "    finalworth_df = finalworth_df.sort_values(by='finalWorth',ascending=False)\n",
    "    counter = 0\n",
    "    for row in finalworth_df:\n",
    "        year_data.append(row[0])\n",
    "        worth_data.append(row[1])\n",
    "        name_data.append(row[2])\n",
    "        counter = counter + 1\n",
    "        if (counter == 10):\n",
    "            break\n",
    "bar_df[\"year\"] = year_data\n",
    "bar_df[\"finalWorth\"] = worth_data\n",
    "bar_df[\"name\"] = name_data\n",
    "bar_idf = bar_df.interactive()"
   ]
  },
  {
   "cell_type": "code",
   "execution_count": 76,
   "metadata": {},
   "outputs": [],
   "source": [
    "bar_pipeline = (\n",
    "    bar_idf[\n",
    "        bar_idf.year == year_slider\n",
    "    ]\n",
    "    .reset_index()\n",
    "    .sort_values(by='finalWorth')  \n",
    "    .reset_index(drop=True)\n",
    ")"
   ]
  },
  {
   "cell_type": "code",
   "execution_count": 77,
   "metadata": {},
   "outputs": [],
   "source": [
    "worth_bar_plot = bar_pipeline.hvplot(kind = 'bar', x = 'name', y = 'finalWorth', \n",
    "                                    title = 'Top 10 Billionaires Based on Final Worth', groupby='year')"
   ]
  },
  {
   "cell_type": "markdown",
   "metadata": {},
   "source": [
    "Creating the Dashboard (Not finished!)"
   ]
  },
  {
   "cell_type": "code",
   "execution_count": 78,
   "metadata": {},
   "outputs": [
    {
     "name": "stdout",
     "output_type": "stream",
     "text": [
      "Unexpected exception formatting exception. Falling back to standard exception\n"
     ]
    },
    {
     "name": "stderr",
     "output_type": "stream",
     "text": [
      "Traceback (most recent call last):\n",
      "  File \"C:\\Users\\klval\\AppData\\Roaming\\Python\\Python310\\site-packages\\IPython\\core\\interactiveshell.py\", line 3433, in run_code\n",
      "    exec(code_obj, self.user_global_ns, self.user_ns)\n",
      "  File \"C:\\Users\\klval\\AppData\\Local\\Temp\\ipykernel_23516\\3224110275.py\", line 6, in <module>\n",
      "    (pn.Column(worth_bar_plot.panel(width=700), margin=(0,25)))],\n",
      "  File \"C:\\Users\\klval\\AppData\\Roaming\\Python\\Python310\\site-packages\\hvplot\\interactive.py\", line 733, in panel\n",
      "    return pn.panel(self._callback, **kwargs)\n",
      "  File \"C:\\Users\\klval\\AppData\\Roaming\\Python\\Python310\\site-packages\\panel\\pane\\base.py\", line 82, in panel\n",
      "    pane = PaneBase.get_pane_type(obj, **kwargs)(obj, **kwargs)\n",
      "  File \"C:\\Users\\klval\\AppData\\Roaming\\Python\\Python310\\site-packages\\panel\\param.py\", line 790, in __init__\n",
      "    self._replace_pane()\n",
      "  File \"C:\\Users\\klval\\AppData\\Roaming\\Python\\Python310\\site-packages\\panel\\param.py\", line 846, in _replace_pane\n",
      "    self._update_inner(new_object)\n",
      "  File \"C:\\Users\\klval\\AppData\\Roaming\\Python\\Python310\\site-packages\\panel\\pane\\base.py\", line 452, in _update_inner\n",
      "    new_pane, internal = self._update_from_object(\n",
      "  File \"C:\\Users\\klval\\AppData\\Roaming\\Python\\Python310\\site-packages\\panel\\pane\\base.py\", line 433, in _update_from_object\n",
      "    pane = panel(object, **{k: v for k, v in kwargs.items()\n",
      "  File \"C:\\Users\\klval\\AppData\\Roaming\\Python\\Python310\\site-packages\\panel\\pane\\base.py\", line 82, in panel\n",
      "    pane = PaneBase.get_pane_type(obj, **kwargs)(obj, **kwargs)\n",
      "  File \"C:\\Users\\klval\\AppData\\Roaming\\Python\\Python310\\site-packages\\panel\\pane\\holoviews.py\", line 114, in __init__\n",
      "    self._update_widgets()\n",
      "  File \"C:\\Users\\klval\\AppData\\Roaming\\Python\\Python310\\site-packages\\param\\parameterized.py\", line 407, in _depends\n",
      "    return func(*args, **kw)\n",
      "  File \"C:\\Users\\klval\\AppData\\Roaming\\Python\\Python310\\site-packages\\panel\\pane\\holoviews.py\", line 182, in _update_widgets\n",
      "    widgets, values = self.widgets_from_dimensions(\n",
      "  File \"C:\\Users\\klval\\AppData\\Roaming\\Python\\Python310\\site-packages\\panel\\pane\\holoviews.py\", line 416, in widgets_from_dimensions\n",
      "    raise SkipRendering(msg.format(dims=dims))\n",
      "holoviews.core.options.SkipRendering: DynamicMap cannot be displayed without explicit indexing as 'year' dimension(s) are unbounded. \n",
      "Set dimensions bounds with the DynamicMap redim.range or redim.values methods.\n",
      "\n",
      "During handling of the above exception, another exception occurred:\n",
      "\n",
      "Traceback (most recent call last):\n",
      "  File \"C:\\Users\\klval\\AppData\\Roaming\\Python\\Python310\\site-packages\\IPython\\core\\interactiveshell.py\", line 2052, in showtraceback\n",
      "    stb = self.InteractiveTB.structured_traceback(\n",
      "  File \"C:\\Users\\klval\\AppData\\Roaming\\Python\\Python310\\site-packages\\IPython\\core\\ultratb.py\", line 1112, in structured_traceback\n",
      "    return FormattedTB.structured_traceback(\n",
      "  File \"C:\\Users\\klval\\AppData\\Roaming\\Python\\Python310\\site-packages\\IPython\\core\\ultratb.py\", line 1006, in structured_traceback\n",
      "    return VerboseTB.structured_traceback(\n",
      "  File \"C:\\Users\\klval\\AppData\\Roaming\\Python\\Python310\\site-packages\\IPython\\core\\ultratb.py\", line 859, in structured_traceback\n",
      "    formatted_exception = self.format_exception_as_a_whole(etype, evalue, etb, number_of_lines_of_context,\n",
      "  File \"C:\\Users\\klval\\AppData\\Roaming\\Python\\Python310\\site-packages\\IPython\\core\\ultratb.py\", line 812, in format_exception_as_a_whole\n",
      "    frames.append(self.format_record(r))\n",
      "  File \"C:\\Users\\klval\\AppData\\Roaming\\Python\\Python310\\site-packages\\IPython\\core\\ultratb.py\", line 730, in format_record\n",
      "    result += ''.join(_format_traceback_lines(frame_info.lines, Colors, self.has_colors, lvals))\n",
      "  File \"C:\\Users\\klval\\AppData\\Roaming\\Python\\Python310\\site-packages\\stack_data\\utils.py\", line 144, in cached_property_wrapper\n",
      "    value = obj.__dict__[self.func.__name__] = self.func(obj)\n",
      "  File \"C:\\Users\\klval\\AppData\\Roaming\\Python\\Python310\\site-packages\\stack_data\\core.py\", line 720, in lines\n",
      "    pieces = self.included_pieces\n",
      "  File \"C:\\Users\\klval\\AppData\\Roaming\\Python\\Python310\\site-packages\\stack_data\\utils.py\", line 144, in cached_property_wrapper\n",
      "    value = obj.__dict__[self.func.__name__] = self.func(obj)\n",
      "  File \"C:\\Users\\klval\\AppData\\Roaming\\Python\\Python310\\site-packages\\stack_data\\core.py\", line 663, in included_pieces\n",
      "    scope_pieces = self.scope_pieces\n",
      "  File \"C:\\Users\\klval\\AppData\\Roaming\\Python\\Python310\\site-packages\\stack_data\\utils.py\", line 144, in cached_property_wrapper\n",
      "    value = obj.__dict__[self.func.__name__] = self.func(obj)\n",
      "  File \"C:\\Users\\klval\\AppData\\Roaming\\Python\\Python310\\site-packages\\stack_data\\core.py\", line 603, in scope_pieces\n",
      "    for piece in self.source.pieces\n",
      "  File \"C:\\Users\\klval\\AppData\\Roaming\\Python\\Python310\\site-packages\\stack_data\\utils.py\", line 144, in cached_property_wrapper\n",
      "    value = obj.__dict__[self.func.__name__] = self.func(obj)\n",
      "  File \"C:\\Users\\klval\\AppData\\Roaming\\Python\\Python310\\site-packages\\stack_data\\core.py\", line 101, in pieces\n",
      "    return list(self._clean_pieces())\n",
      "  File \"C:\\Users\\klval\\AppData\\Roaming\\Python\\Python310\\site-packages\\stack_data\\core.py\", line 125, in _clean_pieces\n",
      "    raise AssertionError(\"Pieces mismatches: %s\" % mismatches)\n",
      "AssertionError: Pieces mismatches: [{680, 681}, {696, 695}, {708, 709}, {714, 715}]\n"
     ]
    }
   ],
   "source": [
    "template = pn.template.FastListTemplate(\n",
    "    title='Forbes Billionaires Data Visualizations', \n",
    "    sidebar=[pn.pane.Markdown(\"## Settings\"),   \n",
    "             year_slider],\n",
    "    main=[pn.Row(pn.Column(total_billionaire_plot.panel(width=700), margin=(0,25))),\n",
    "                (pn.Column(worth_bar_plot.panel(width=700), margin=(0,25)))],\n",
    "    accent_base_color=\"#88d8b0\",\n",
    "    header_background=\"#88d8b0\",\n",
    ")\n",
    "# template.show()\n",
    "template.servable()"
   ]
  }
 ],
 "metadata": {
  "kernelspec": {
   "display_name": "Python 3.10.7 64-bit",
   "language": "python",
   "name": "python3"
  },
  "language_info": {
   "codemirror_mode": {
    "name": "ipython",
    "version": 3
   },
   "file_extension": ".py",
   "mimetype": "text/x-python",
   "name": "python",
   "nbconvert_exporter": "python",
   "pygments_lexer": "ipython3",
   "version": "3.10.7"
  },
  "orig_nbformat": 4,
  "vscode": {
   "interpreter": {
    "hash": "26de051ba29f2982a8de78e945f0abaf191376122a1563185a90213a26c5da77"
   }
  }
 },
 "nbformat": 4,
 "nbformat_minor": 2
}
